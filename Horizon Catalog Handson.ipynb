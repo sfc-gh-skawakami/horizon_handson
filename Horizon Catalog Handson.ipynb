{
 "metadata": {
  "kernelspec": {
   "display_name": "Streamlit Notebook",
   "name": "streamlit"
  },
  "lastEditStatus": {
   "notebookId": "n62ufbmfaqp3x6vbqee5",
   "authorId": "4547617619514",
   "authorName": "SKAWAKAMI",
   "authorEmail": "shinichi.kawakami@snowflake.com",
   "sessionId": "97ca5983-f9a7-41b7-86c3-85dc1fba6515",
   "lastEditTime": 1759900555692
  }
 },
 "nbformat_minor": 5,
 "nbformat": 4,
 "cells": [
  {
   "cell_type": "markdown",
   "id": "8afd831f-43f0-4652-b635-5662039f53b8",
   "metadata": {
    "name": "overview_md",
    "collapsed": false
   },
   "source": "# Snowflake Horizon Catalog & Internal Marketplace Hands-on\n本ハンズオンでは、以下の2つの構成に分かれてハンズオンを実施します。それぞれのパートで機能を実感していだき概要を理解していただくことを目的としています。\n1. Snowflake Horizon Catalog\n2. Snowflake Internal Marketplace"
  },
  {
   "cell_type": "markdown",
   "id": "81588421-2ce6-4f19-9a34-c324d2c9f29e",
   "metadata": {
    "name": "horizon_catalog_md",
    "collapsed": false
   },
   "source": "## Snowflake Horizon Catalog"
  },
  {
   "cell_type": "markdown",
   "id": "91c9ec03-d5b7-4c31-814d-a129bb54e87f",
   "metadata": {
    "name": "universal_search_md",
    "collapsed": false
   },
   "source": "### Universal Search\nSnowflakeのHorizon Catalogでは、格納されている資産(テーブル、ビュー、ワークシート、ダッシュボード、ノートブック、Streamlitアプリ、MLモデルなど)を横断して検索・発見するための機能を提供しています。\nそれでは、実際に検索を行ってみます。\n\n#### Step 1 - キーワード検索\n1. Snowsightの検索/Searchアイコンをクリック\n2. 検索窓に`truck`と入力します。\n3. テーブルおよびビュー/Tables and viewsの検索結果として、truckの項目を含む一覧が表示されます\n\n### Step 2 - 文章検索\nキーワードだけではなく、文章から検索を行うことも可能です。\n1. 次のように検索ワードを入力してみてください `Which truck franchises has the most loyal customer base?`\n2. 検索条件を満たすために必要となりそうなテーブル/Viewを検索結果として表示してくれます"
  },
  {
   "cell_type": "markdown",
   "id": "8f057c43-71e7-401b-9ee4-acca74d70cd1",
   "metadata": {
    "name": "ai_object_description",
    "collapsed": false
   },
   "source": "### AIを活用したオブジェクト説明\nSnowflake Copilot(AI)を活用して、テーブルやビューにコメントを即座に生成可能\n\n#### Step 1 - UIを使ったオブジェクト説明\n1. Snowsightから、カタログ/Catalog > データベースエクスプローラー/Database Explorerを開く\n2. 作成してみたいテーブルを選択\n3. 説明/Descriptionにある`Copilotで生成/Generate with Cortex`をクリック\n\n### Step 2 - SQLを使ったオブジェクト生成\n[AI_GENERATE_TABLE_DESC](https://docs.snowflake.com/en/sql-reference/stored-procedures/ai_generate_table_desc)関数を利用して、各列単位での説明も生成することが可能です。\nこれにより[サンプル](https://docs.snowflake.com/user-guide/sql-cortex-descriptions)のように自動的に説明が追加されるように設定することも可能です。"
  },
  {
   "cell_type": "code",
   "id": "8dfbd53a-49c1-48e9-99a5-9eddcaf6b488",
   "metadata": {
    "language": "python",
    "name": "ai_generate_table_desc_py"
   },
   "outputs": [],
   "source": "from snowflake.snowpark.context import get_active_session\nimport json\nimport streamlit as st\n\nsession = get_active_session()\nsession.use_role(\"sysadmin\")\n\n# 以下の情報を皆様の環境/テーブルに合わせて変更してください。\n\n# SALES_PERFORMANCE_ANALYTICS\n# ---------------------------------\n# TABLE_NAME = \"CUSTOMERS\"\n# SCHEMA_NAME = \"RAW_DATA\"\n# DATABASE_NAME = \"SALES_PERFORMANCE_ANALYTICS\"\n\n# MARKETING_PERFORMANCE_ANALYTICS\n# ---------------------------------\n# TABLE_NAME = \"LEADS\"\n# SCHEMA_NAME = \"RAW_DATA\"\n# DATABASE_NAME = \"MARKETING_PERFORMANCE_ANALYTICS\"\n\n# SUPPORT_PERFORMANCE_ANALYTICS\n# ---------------------------------\n# TABLE_NAME = \"CUSTOMERS\"\n# SCHEMA_NAME = \"RAW_DATA\"\n# DATABASE_NAME = \"SUPPORT_PERFORMANCE_ANALYTICS\"\n\nTABLE_NAME = \"CUSTOMER_LOYALTY\"\nSCHEMA_NAME = \"RAW_CUSTOMER\"\nDATABASE_NAME = \"TB_101\"\n\n# 説明生成\ndf_result = session.sql(f\"\"\"\n  CALL AI_GENERATE_TABLE_DESC('{DATABASE_NAME}.{SCHEMA_NAME}.{TABLE_NAME}',\n    {{\n        'describe_columns': true,\n        'use_table_data': true\n    }}\n  )\n\"\"\").to_pandas()\n\n# 取得結果をオブジェクトに変換\noutput = json.loads(df_result.iat[0,0])\ncolumns_ret = output[\"COLUMNS\"]\ntable_ret = output[\"TABLE\"][0]\n\n# テーブル説明を取得し、エスケープ処理\ntable_description = table_ret[\"description\"]\ntable_name = table_ret[\"name\"]\ndatabase_name = table_ret[\"database_name\"]\nschema_name = table_ret[\"schema_name\"]\n\n# テーブル説明を更新\ntable_description = table_description.replace(\"'\", \"\\\\'\")\nsession.sql(f\"\"\"ALTER TABLE {database_name}.{schema_name}.{table_name} SET COMMENT = '{table_description}'\"\"\").collect()\n\n# 各カラムの値を取得し、更新\nfor column in columns_ret:\n    column_description = column[\"description\"];\n    column_name = column[\"name\"];\n    if not column_name.isupper():\n        column_name = '\"' + column_name + '\"'\n    \n    column_description = column_description.replace(\"'\", \"\\\\'\")\n    session.sql(f\"\"\"ALTER TABLE  {database_name}.{schema_name}.{table_name} MODIFY COLUMN {column_name}  COMMENT '{column_description}'\"\"\").collect()\n\nst.markdown(\"\"\"\n処理が完了したので、結果を確認しみましょう。\n1. Snowsightから、カタログ/Catalog > データベースエクスプローラー/Database Explorerを開く\n2. 上記で設定したテーブルを開く\n3. 説明/Descriptionに説明が入っていることを確認\n4. 列/Columnsを選択し、各カラムに説明が入っていることを確認\n\"\"\")",
   "execution_count": null
  },
  {
   "cell_type": "markdown",
   "id": "a34a8ebf-66ff-4926-8e61-0187c3e41973",
   "metadata": {
    "name": "classification_md",
    "collapsed": false
   },
   "source": "### 分類/タグ付\nデータガバナンスにおける重要な第一歩は、機密データの特定と分類です。Snowflake Horizonの自動タグ付け機能は、スキーマ内のカラムを監視することで機密情報を自動的に検出します。これらのタグを活用してセキュリティポリシーを適用することが可能です。\n\n#### Step 1 - PIIタグを作成し権限を付与\naccountadminロールを使用して、ガバナンススキーマ内にpiiタグを作成します。また、分類処理を実行するためにtb_data_stewardロールに必要な権限を付与します。"
  },
  {
   "cell_type": "code",
   "id": "c4852566-5f02-4af7-a0e7-072fc141d7a2",
   "metadata": {
    "language": "sql",
    "name": "pii_tag_sql"
   },
   "outputs": [],
   "source": "USE ROLE accountadmin;\n-- 皆様がお使いのデータベースに合わせて変更してください。\n-- USE DATABASE SALES_PERFORMANCE_ANALYTICS;\n-- USE DATABASE MARKETING_PERFORMANCE_ANALYTICS;\n-- USE DATABASE SUPPORT_PERFORMANCE_ANALYTICS;\nUSE DATABASE TB_101;\n\nCREATE OR REPLACE TAG governance.pii;\nGRANT APPLY TAG ON ACCOUNT TO ROLE sysadmin;\n\nGRANT EXECUTE AUTO CLASSIFICATION ON SCHEMA raw_data TO ROLE sysadmin;\n-- GRANT EXECUTE AUTO CLASSIFICATION ON SCHEMA raw_customer TO ROLE sysadmin;\nGRANT DATABASE ROLE SNOWFLAKE.CLASSIFICATION_ADMIN TO ROLE sysadmin;\nGRANT CREATE SNOWFLAKE.DATA_PRIVACY.CLASSIFICATION_PROFILE ON SCHEMA governance TO ROLE sysadmin;",
   "execution_count": null
  },
  {
   "cell_type": "markdown",
   "id": "d669e030-cd05-4ba8-9373-bb60f7cacc0b",
   "metadata": {
    "name": "classification_profile_md",
    "collapsed": false
   },
   "source": "#### Step 2 - 分類プロファイルの作成\n`sysadmin`ロールを利用して、分類プロファイルを作成します。このプロファイルは自動タギングの振る舞いを定義しています。"
  },
  {
   "cell_type": "code",
   "id": "6e6171ad-e0d7-4fa6-a4c1-ecfa31abc6b8",
   "metadata": {
    "language": "sql",
    "name": "classification_profile_sql"
   },
   "outputs": [],
   "source": "USE ROLE sysadmin;\n\nCREATE OR REPLACE SNOWFLAKE.DATA_PRIVACY.CLASSIFICATION_PROFILE\n  governance.tb_classification_profile(\n    {\n      'minimum_object_age_for_classification_days': 0,\n      'maximum_classification_validity_days': 30,\n      'auto_tag': true\n    });",
   "execution_count": null
  },
  {
   "cell_type": "markdown",
   "id": "1a0412fe-710e-4702-90a7-f5fa00ec229a",
   "metadata": {
    "name": "map_caterories_md",
    "collapsed": false
   },
   "source": "#### Step 3 - セマンティックカテゴリをPIIタグにマッピング\n次に、分類プロファイルに対して、SEMANTIC_CATEGORY が NAME、PHONE_NUMBER、EMAIL などの一般的な個人識別情報（PII）タイプと一致する列に、当社の governance.pii タグを適用するよう指示するマッピングを定義します。"
  },
  {
   "cell_type": "code",
   "id": "63ea3dc3-ecf3-438f-95cf-acbaeb94087b",
   "metadata": {
    "language": "sql",
    "name": "map_categories_sql"
   },
   "outputs": [],
   "source": "CALL governance.tb_classification_profile!SET_TAG_MAP(\n  {'column_tag_map':[\n    {\n-- 皆様がお使いのデータベースに合わせて変更してください。\n      -- 'tag_name':'SALES_PERFORMANCE_ANALYTICS.governance.pii',\n      -- 'tag_name':'MARKETING_PERFORMANCE_ANALYTICS.governance.pii',\n      -- 'tag_name':'SUPPORT_PERFORMANCE_ANALYTICS.governance.pii',\n      'tag_name':'tb_101.governance.pii',\n      'tag_value':'pii',\n      'semantic_categories':['NAME', 'PHONE_NUMBER', 'POSTAL_CODE', 'DATE_OF_BIRTH', 'CITY', 'EMAIL']\n    }]});",
   "execution_count": null
  },
  {
   "cell_type": "markdown",
   "id": "74e9ed9a-884b-47eb-96c5-eb1929a80582",
   "metadata": {
    "name": "run_classification_md",
    "collapsed": false
   },
   "source": "#### Step 4 - 分類の実行と結果確認\nテーブルに対して分類プロセスを手動でトリガーしましょう。その後、INFORMATION_SCHEMAをクエリして自動的に適用されたタグを確認できます。"
  },
  {
   "cell_type": "code",
   "id": "ae14896c-4305-44a4-bd47-bfe441c0dbc0",
   "metadata": {
    "language": "sql",
    "name": "run_classification_sql"
   },
   "outputs": [],
   "source": "-- -- Trigger classification\n-- USE DATABASE tb_101;\n-- CALL SYSTEM$CLASSIFY('tb_101.raw_customer.customer_loyalty', 'tb_101.governance.tb_classification_profile');\n\n-- -- View applied tags\n-- SELECT \n--     column_name,\n--     tag_database,\n--     tag_schema,\n--     tag_name,\n--     tag_value,\n--     apply_method\n-- FROM TABLE(INFORMATION_SCHEMA.TAG_REFERENCES_ALL_COLUMNS('raw_customer.customer_loyalty', 'table'));\n\n-- 皆様がお使いのデータベースに合わせて変更してください。\n-- USE DATABASE SALES_PERFORMANCE_ANALYTICS;\n-- -- Trigger classification\n-- CALL SYSTEM$CLASSIFY('SALES_PERFORMANCE_ANALYTICS.raw_data.customers', 'SALES_PERFORMANCE_ANALYTICS.governance.tb_classification_profile');\n\n-- -- View applied tags\n-- SELECT \n--     column_name,\n--     tag_database,\n--     tag_schema,\n--     tag_name,\n--     tag_value,\n--     apply_method\n-- FROM TABLE(INFORMATION_SCHEMA.TAG_REFERENCES_ALL_COLUMNS('raw_data.customers', 'table'));\n\n-- -- Trigger classification\n-- USE DATABASE MARKETING_PERFORMANCE_ANALYTICS;\n-- CALL SYSTEM$CLASSIFY('MARKETING_PERFORMANCE_ANALYTICS.raw_data.leads', 'MARKETING_PERFORMANCE_ANALYTICS.governance.tb_classification_profile');\n\n-- -- View applied tags\n-- SELECT \n--     column_name,\n--     tag_database,\n--     tag_schema,\n--     tag_name,\n--     tag_value,\n--     apply_method\n-- FROM TABLE(INFORMATION_SCHEMA.TAG_REFERENCES_ALL_COLUMNS('raw_data.leads', 'table'));\n\n-- -- Trigger classification\n-- USE DATABASE SUPPORT_PERFORMANCE_ANALYTICS;\n-- CALL SYSTEM$CLASSIFY('SUPPORT_PERFORMANCE_ANALYTICS.raw_data.customers', 'SUPPORT_PERFORMANCE_ANALYTICS.governance.tb_classification_profile');\n\n-- -- View applied tags\n-- SELECT \n--     column_name,\n--     tag_database,\n--     tag_schema,\n--     tag_name,\n--     tag_value,\n--     apply_method\n-- FROM TABLE(INFORMATION_SCHEMA.TAG_REFERENCES_ALL_COLUMNS('raw_data.customers', 'table'));\n",
   "execution_count": null
  },
  {
   "cell_type": "markdown",
   "id": "f23ba30e-6fb8-4367-b655-c5c9a81b49a8",
   "metadata": {
    "name": "classification_result_md",
    "collapsed": false
   },
   "source": "PIIとして識別された列には、上記のカスタムガバナンスタグ「governance.pii」が適用されています"
  },
  {
   "cell_type": "markdown",
   "id": "3628f775-3572-4e5e-bdde-8c3184e15490",
   "metadata": {
    "name": "data_quality_monitoring_md",
    "collapsed": false
   },
   "source": "### データ品質モニタリング\nデータガバナンスはセキュリティだけでなく、信頼性と確実性も重要です。Snowflakeはデータメトリック関数（DMF）によりデータの完全性を維持します。システム定義のDMFを利用するか、独自のDMFを作成してテーブルの自動品質チェックを実行できます。\n\n#### 期待値を設定して、定期実行\nSnowflakeの組み込みDMFをいくつか使用して、order_headerテーブルの品質を確認しましょう。"
  },
  {
   "cell_type": "code",
   "id": "7ffa6936-7693-4a8a-b4fa-6888a1133718",
   "metadata": {
    "language": "sql",
    "name": "use_system_dmf_sql"
   },
   "outputs": [],
   "source": "GRANT EXECUTE DATA METRIC FUNCTION ON ACCOUNT TO ROLE sysadmin;\nUSE ROLE sysadmin;\n\n-- モニタリング頻度\nALTER TABLE TB_101.RAW_POS.ORDER_HEADER SET DATA_METRIC_SCHEDULE = '5 minutes';\n\nALTER TABLE TB_101.RAW_POS.ORDER_HEADER\n  ADD DATA METRIC FUNCTION\n    -- Row count (Volume)\n    SNOWFLAKE.CORE.ROW_COUNT ON () Expectation Volume_Check (value > 1),       \n    -- Freshness\n    SNOWFLAKE.CORE.FRESHNESS ON () Expectation Freshness_Check (value < 1800), \n    -- Null count\n    SNOWFLAKE.CORE.NULL_COUNT ON (ORDER_ID) Expectation Null_check (value = 0),    \n    -- DUPLICATION\n    SNOWFLAKE.CORE.DUPLICATE_COUNT ON (ORDER_ID) Expectation duplicate_check (value < 1); \n\n-- モニタリング頻度\n-- ALTER TABLE SALES_PERFORMANCE_ANALYTICS.RAW_DATA.OPPORTUNITIES SET DATA_METRIC_SCHEDULE = '5 minutes';\n\n-- ALTER TABLE SALES_PERFORMANCE_ANALYTICS.RAW_DATA.OPPORTUNITIES\n--   ADD DATA METRIC FUNCTION\n--     -- Row count (Volume)\n--     SNOWFLAKE.CORE.ROW_COUNT ON () Expectation Volume_Check (value > 1),       \n--     -- Freshness\n--     SNOWFLAKE.CORE.FRESHNESS ON () Expectation Freshness_Check (value < 1800), \n--     -- Null count\n--     SNOWFLAKE.CORE.NULL_COUNT ON (OPPORTUNITY_ID) Expectation Null_check (value = 0),    \n--     -- DUPLICATION\n--     SNOWFLAKE.CORE.DUPLICATE_COUNT ON (OPPORTUNITY_ID) Expectation duplicate_check (value < 1); \n\n-- -- モニタリング頻度\n-- ALTER TABLE MARKETING_PERFORMANCE_ANALYTICS.RAW_DATA.MARKETING_ACTIVITIES SET DATA_METRIC_SCHEDULE = '5 minutes';\n\n-- ALTER TABLE MARKETING_PERFORMANCE_ANALYTICS.RAW_DATA.MARKETING_ACTIVITIES\n--   ADD DATA METRIC FUNCTION\n--     -- Row count (Volume)\n--     SNOWFLAKE.CORE.ROW_COUNT ON () Expectation Volume_Check (value > 1),       \n--     -- Freshness\n--     SNOWFLAKE.CORE.FRESHNESS ON () Expectation Freshness_Check (value < 1800), \n--     -- Null count\n--     SNOWFLAKE.CORE.NULL_COUNT ON (ACTIVITY_ID) Expectation Null_check (value = 0),    \n--     -- DUPLICATION\n--     SNOWFLAKE.CORE.DUPLICATE_COUNT ON (ACTIVITY_ID) Expectation duplicate_check (value < 1); \n\n-- -- モニタリング頻度\n-- ALTER TABLE SUPPORT_PERFORMANCE_ANALYTICS.RAW_DATA.TICKET_RESPONSES SET DATA_METRIC_SCHEDULE = '5 minutes';\n\n-- ALTER TABLE SUPPORT_PERFORMANCE_ANALYTICS.RAW_DATA.TICKET_RESPONSES\n--   ADD DATA METRIC FUNCTION\n--     -- Row count (Volume)\n--     SNOWFLAKE.CORE.ROW_COUNT ON () Expectation Volume_Check (value > 1),       \n--     -- Freshness\n--     SNOWFLAKE.CORE.FRESHNESS ON () Expectation Freshness_Check (value < 1800), \n--     -- Null count\n--     SNOWFLAKE.CORE.NULL_COUNT ON (RESPONSE_ID) Expectation Null_check (value = 0),    \n--     -- DUPLICATION\n--     SNOWFLAKE.CORE.DUPLICATE_COUNT ON (RESPONSE_ID) Expectation duplicate_check (value < 1); ",
   "execution_count": null
  },
  {
   "cell_type": "code",
   "id": "9049dfe2-3d66-4020-8d46-2f910966eee0",
   "metadata": {
    "language": "sql",
    "name": "evaluate_dmf_sql"
   },
   "outputs": [],
   "source": "SELECT *\n  FROM TABLE(SYSTEM$EVALUATE_DATA_QUALITY_EXPECTATIONS(\n      REF_ENTITY_NAME => 'tb_101.raw_pos.order_header'))\n;\n\n-- -- SALES_PERFORMANCE_ANALYTICS\n-- SELECT *\n--   FROM TABLE(SYSTEM$EVALUATE_DATA_QUALITY_EXPECTATIONS(\n--       REF_ENTITY_NAME => 'SALES_PERFORMANCE_ANALYTICS.RAW_DATA.OPPORTUNITIES'))\n-- ;\n\n-- -- MARKETING_PERFORMANCE_ANALYTICS\n-- SELECT *\n--   FROM TABLE(SYSTEM$EVALUATE_DATA_QUALITY_EXPECTATIONS(\n--       REF_ENTITY_NAME => 'MARKETING_PERFORMANCE_ANALYTICS.RAW_DATA.MARKETING_ACTIVITIES'))\n-- ;\n\n-- -- SUPPORT_PERFORMANCE_ANALYTICS\n-- SELECT *\n--   FROM TABLE(SYSTEM$EVALUATE_DATA_QUALITY_EXPECTATIONS(\n--       REF_ENTITY_NAME => 'SUPPORT_PERFORMANCE_ANALYTICS.RAW_DATA.TICKET_RESPONSES'))\n-- ;\n",
   "execution_count": null
  },
  {
   "cell_type": "markdown",
   "id": "c1288e58-d790-4b0d-bfc5-3cdeaae394d8",
   "metadata": {
    "name": "synthetic_data_md",
    "collapsed": false
   },
   "source": "### 合成データ生成\nSnowflakeはソーステーブルから合成データを生成でき、ソーステーブルと同じ列数を持つテーブルを作成しますが、統計的に類似した人工データで構成されます。合成データを使用することで、機密性が高く共有が制限されているデータや、共有が不適切なデータを共有・テストできます。合成データセットは、列の名前、数、データ型など、ソースデータセットと同じ特性を持ち、行数は同じかそれ以下です。特に元のデータが機密性が高く、権限のないユーザーがアクセスすべきでない場合に、Snowflake内のワークロードをテストおよび検証するために合成データを使用できます。合成データは[データリネージグラフ](https://docs.snowflake.com/ja/user-guide/ui-snowsight-lineage)に表示されます。"
  },
  {
   "cell_type": "code",
   "id": "dd06e09e-84fa-480e-881e-f7af2e3a9a30",
   "metadata": {
    "language": "sql",
    "name": "synthetic_data_sql1"
   },
   "outputs": [],
   "source": "-- データ量が多いためサンプリングテーブルを作成\nuse database tb_101;\nCREATE OR REPLACE SCHEMA sampled_sc;\n\nCREATE OR REPLACE TABLE sampled_sc.order_header as select * from tb_101.raw_pos.order_header sample (5000 rows);\nCREATE OR REPLACE TABLE sampled_sc.order_detail as select * from tb_101.raw_pos.order_detail sample (5000 rows);",
   "execution_count": null
  },
  {
   "cell_type": "code",
   "id": "cce1fedb-03ae-4125-9117-aa0bda1f22a9",
   "metadata": {
    "language": "sql",
    "name": "synthetic_data_sql2"
   },
   "outputs": [],
   "source": "-- ご利用のデータベースに合わせて変更してください\nUSE DATABASE TB_101;\n-- USE DATABASE SALES_PERFORMANCE_ANALYTICS;\n-- USE DATABASE MARKETING_PERFORMANCE_ANALYTICS;\n-- USE DATABASE SUPPORT_PERFORMANCE_ANALYTICS;\n\n-- 合成データ格納先のスキーマを作成\nCREATE SCHEMA syn_schema;\n\n-- 複数テーブルでの結合に利用するキーを保管するためのシークレットを作成\nCREATE OR REPLACE SECRET syn_schema.consistency_secret\n  TYPE=SYMMETRIC_KEY\n  ALGORITHM=GENERIC;",
   "execution_count": null
  },
  {
   "cell_type": "code",
   "id": "915a5ab1-0e85-46a9-b3df-0b3bec28a61f",
   "metadata": {
    "language": "sql",
    "name": "synthetic_data_sql3"
   },
   "outputs": [],
   "source": "-- 合成データを作成\n-- CALL SNOWFLAKE.DATA_PRIVACY.GENERATE_SYNTHETIC_DATA({\n--   'datasets':[\n--       {\n--         'input_table': 'TB_101.sampled_sc.ORDER_HEADER',\n--         'output_table': 'TB_101.syn_schema.ORDER_HEADER',\n--         'columns': { 'order_id': {'join_key': TRUE}, 'customer_id': {'join_key': TRUE}, 'location_id': {'join_key': TRUE}, 'truck_id': {'join_key': TRUE}}\n--       }\n--     ],\n--     'consistency_secret': SYSTEM$REFERENCE('SECRET', 'syn_schema.consistency_secret', 'SESSION', 'READ')::STRING,\n--     'replace_output_tables': TRUE\n-- });\n\n-- CALL SNOWFLAKE.DATA_PRIVACY.GENERATE_SYNTHETIC_DATA({\n--   'datasets':[      \n--       {\n--         'input_table': 'TB_101.sampled_sc.ORDER_DETAIL',\n--         'output_table': 'TB_101.syn_schema.ORDER_DETAIL',\n--         'columns': { 'order_id': {'join_key': TRUE}, 'menu_item_id': {'join_key': TRUE}}\n--       }\n--     ],\n--     'consistency_secret': SYSTEM$REFERENCE('SECRET', 'syn_schema.consistency_secret', 'SESSION', 'READ')::STRING,\n--     'replace_output_tables': TRUE\n-- });\n\n-- CALL SNOWFLAKE.DATA_PRIVACY.GENERATE_SYNTHETIC_DATA({\n--   'datasets':[\n--     {\n--         'input_table': 'TB_101.RAW_POS.MENU',\n--         'output_table': 'TB_101.syn_schema.MENU',\n--         'columns': { 'menu_item_id': {'join_key': TRUE}, 'menu_type_id': {'join_key': TRUE}}\n--       },\n--       {\n--         'input_table': 'TB_101.RAW_POS.TRUCK',\n--         'output_table': 'TB_101.syn_schema.TRUCK',\n--         'columns': { 'franchise_id': {'join_key': TRUE}, 'menu_type_id': {'join_key': TRUE}, 'truck_id': {'join_key':TRUE} }\n--       },\n--       {\n--         'input_table': 'TB_101.RAW_POS.LOCATION',\n--         'output_table': 'TB_101.syn_schema.LOCATION',\n--         'columns': { 'location_id': {'join_key': TRUE}}\n--       }      \n--     ],\n--     'consistency_secret': SYSTEM$REFERENCE('SECRET', 'syn_schema.consistency_secret', 'SESSION', 'READ')::STRING,\n--     'replace_output_tables': TRUE\n-- });\n\n-- CALL SNOWFLAKE.DATA_PRIVACY.GENERATE_SYNTHETIC_DATA({\n--   'datasets':[\n--       {\n--         'input_table': 'TB_101.RAW_POS.FRANCHISE',\n--         'output_table': 'TB_101.syn_schema.FRANCHISE',\n--         'columns': { 'franchise_id': {'join_key': TRUE}}\n--       },\n--       {\n--         'input_table': 'TB_101.RAW_CUSTOMER.CUSTOMER_LOYALTY',\n--         'output_table': 'TB_101.syn_schema.CUSTOMER_LOYALTY',\n--         'columns': { \n--             'customer_id': {'join_key': TRUE}\n--         }\n--       }\n--     ],\n--     'consistency_secret': SYSTEM$REFERENCE('SECRET', 'syn_schema.consistency_secret', 'SESSION', 'READ')::STRING,\n--     'replace_output_tables': TRUE\n-- });\n\n--------------------------------------------------\n-- ご利用のデータベースに合わせて変更してください\n--------------------------------------------------\n-- SALES_PERFORMANCE_ANALYTICS\n-- CALL SNOWFLAKE.DATA_PRIVACY.GENERATE_SYNTHETIC_DATA({\n--   'datasets':[\n--     {\n--         'input_table': 'SALES_PERFORMANCE_ANALYTICS.RAW_DATA.CUSTOMERS',\n--         'output_table': 'SALES_PERFORMANCE_ANALYTICS.syn_schema.CUSTOMERS',\n--         'columns': { 'customer_id': {'join_key': TRUE}}\n--       },\n--       {\n--         'input_table': 'SALES_PERFORMANCE_ANALYTICS.RAW_DATA.OPPORTUNITIES',\n--         'output_table': 'SALES_PERFORMANCE_ANALYTICS.syn_schema.OPPORTUNITIES',\n--         'columns': { 'customer_id': {'join_key': TRUE}}\n--       }\n--     ],\n--     'consistency_secret': SYSTEM$REFERENCE('SECRET', 'SALES_PERFORMANCE_ANALYTICS.syn_schema.consistency_secret', 'SESSION', 'READ')::STRING,\n--     'replace_output_tables': TRUE\n-- });\n\n-- -- MARKETING_PERFORMANCE_ANALYTICS\n-- CALL SNOWFLAKE.DATA_PRIVACY.GENERATE_SYNTHETIC_DATA({\n--   'datasets':[\n--     {\n--         'input_table': 'MARKETING_PERFORMANCE_ANALYTICS.RAW_DATA.LEADS',\n--         'output_table': 'MARKETING_PERFORMANCE_ANALYTICS.syn_schema.LEADS',\n--         'columns': { 'lead_id': {'join_key': TRUE}}\n--       },\n--       {\n--         'input_table': 'MARKETING_PERFORMANCE_ANALYTICS.RAW_DATA.CONVERSIONS',\n--         'output_table': 'MARKETING_PERFORMANCE_ANALYTICS.syn_schema.CONVERSIONS',\n--         'columns': { 'lead_id': {'join_key': TRUE}}\n--       }\n--     ],\n--     'consistency_secret': SYSTEM$REFERENCE('SECRET', 'MARKETING_PERFORMANCE_ANALYTICS.syn_schema.consistency_secret', 'SESSION', 'READ')::STRING,\n--     'replace_output_tables': TRUE\n-- });\n\n-- -- SUPPORT_PERFORMANCE_ANALYTICS\n-- CALL SNOWFLAKE.DATA_PRIVACY.GENERATE_SYNTHETIC_DATA({\n--   'datasets':[\n--     {\n--         'input_table': 'SUPPORT_PERFORMANCE_ANALYTICS.RAW_DATA.CUSTOMERS',\n--         'output_table': 'SUPPORT_PERFORMANCE_ANALYTICS.syn_schema.CUSTOMERS',\n--         'columns': { 'customer_id': {'join_key': TRUE}}\n--       },\n--       {\n--         'input_table': 'SUPPORT_PERFORMANCE_ANALYTICS.RAW_DATA.CUSTOMER_SATISFACTION',\n--         'output_table': 'SUPPORT_PERFORMANCE_ANALYTICS.syn_schema.CUSTOMER_SATISFACTION',\n--         'columns': { 'customer_id': {'join_key': TRUE}}\n--       }\n--     ],\n--     'consistency_secret': SYSTEM$REFERENCE('SECRET', 'SUPPORT_PERFORMANCE_ANALYTICS.syn_schema.consistency_secret', 'SESSION', 'READ')::STRING,\n--     'replace_output_tables': TRUE\n-- });\n",
   "execution_count": null
  },
  {
   "cell_type": "markdown",
   "id": "dbefc52a-8972-4e6c-8e0e-dda9fe77db9b",
   "metadata": {
    "name": "synthetic_data_check_md",
    "collapsed": false
   },
   "source": "#### 合成データの分布状況を確認\n実際に作成された合成データと元データの分布について確認してみましょう。"
  },
  {
   "cell_type": "code",
   "id": "c695373e-ac74-4b62-a1f1-08206cbd5c81",
   "metadata": {
    "language": "python",
    "name": "synthetic_data_check_py"
   },
   "source": "import streamlit as st\nimport altair as alt\nfrom snowflake.snowpark.context import get_active_session\nimport pandas as pd\n\nsession = get_active_session()\n\n@st.cache_data(ttl=120)\ndef get_synthetic_compdata(database_name, table_name):\n    if database_name in [\"SALES_PERFORMANCE_ANALYTICS\", \n                         \"MARKETING_PERFORMANCE_ANALYTICS\", \n                         \"SUPPORT_PERFORMANCE_ANALYTICS\"]:\n        schema_name = \"RAW_DATA\"\n    else:\n        schema_name = \"RAW_POS\"\n        if selected_table == \"CUSTOMER_LOYALTY\":\n            schema_name = \"RAW_CUSTOMER\"\n        elif selected_table in [\"ORDER_HEADER\", \"ORDER_DETAIL\"]:\n            schema_name = \"SYN_SCHEMA\"\n        \n    # テーブルのデータを取得\n    df = session.table(f\"{database_name}.syn_schema.{selected_table}\").to_pandas()\n    df_org = session.table(f\"{database_name}.{schema_name}.{selected_table}\").to_pandas()\n\n    return df, df_org\n\nselected_db = st.selectbox(\"DATABASE:\",[\n    \"\",\n    \"SALES_PERFORMANCE_ANALYTICS\",\n    \"MARKETING_PERFORMANCE_ANALYTICS\",\n    \"SUPPORT_PERFORMANCE_ANALYTICS\",\n    \"TB_101\"\n])\n\nif selected_db != \"\":\n    # テーブル一覧を取得\n    tables = session.sql(f\"SHOW TABLES in {selected_db}.syn_schema\").collect()\n    table_names = [row['name'] for row in tables]\n    \n    # テーブル選択用のドロップダウン\n    selected_table = st.selectbox(\"テーブルを選択してください\", table_names)\n\n    if selected_table:\n        with st.spinner(\"データ取得中...\"):\n            df, df_org = get_synthetic_compdata(selected_db, selected_table)\n            # # テーブルのデータを取得\n            # df = session.table(selected_table).to_pandas()\n            # schema_name = \"RAW_POS\"\n            # if selected_table == \"CUSTOMER_LOYALTY\":\n            #     schema_name = \"RAW_CUSTOMER\"\n            # elif selected_table in [\"ORDER_HEADER\", \"ORDER_DETAIL\"]:\n            #     schema_name = \"SYN_SCHEMA\"\n                \n            # df_org = session.table(f\"TB_101.{schema_name}.{selected_table}\").to_pandas()\n            \n            # 文字列型の列のみを抽出\n            string_cols = df.select_dtypes(include=['object']).columns\n            \n            if len(string_cols) > 0:\n                # 列の選択\n                selected_column = st.selectbox(\"列を選択してください\", string_cols)\n        \n                col_1, col_2 = st.columns(2)\n                with col_1:\n                    st.subheader(\"合成データ\")\n                    # 選択された列の値を集計\n                    value_counts = df[selected_column].value_counts().reset_index()\n                    value_counts.columns = ['VALUE', 'COUNT']\n                    \n                    # 棒グラフの作成\n                    chart = alt.Chart(value_counts).mark_bar().encode(\n                        x=alt.X('VALUE:N', sort='-y'),\n                        y='COUNT:Q',\n                        tooltip=['VALUE', 'COUNT']\n                    ).properties(\n                        title=f\"{selected_table}.{selected_column}の値の分布\",\n                        width=600,\n                        height=400\n                    )\n                    \n                    st.altair_chart(chart)\n                    \n                    # 集計結果の表示\n                    st.subheader(\"集計結果\")\n                    st.dataframe(value_counts)\n                    \n                with col_2:\n                    st.subheader(\"元データ\")\n                    # 選択された列の値を集計\n                    org_value_counts = df_org[selected_column].value_counts().reset_index()\n                    org_value_counts.columns = ['VALUE', 'COUNT']\n                    \n                    # 棒グラフの作成\n                    org_chart = alt.Chart(value_counts).mark_bar().encode(\n                        x=alt.X('VALUE:N', sort='-y'),\n                        y='COUNT:Q',\n                        tooltip=['VALUE', 'COUNT']\n                    ).properties(\n                        title=f\"{selected_table}.{selected_column}の値の分布\",\n                        width=600,\n                        height=400\n                    )\n                    \n                    st.altair_chart(org_chart)\n                    \n                    # 集計結果の表示\n                    st.subheader(\"集計結果\")\n                    st.dataframe(org_value_counts)\n            else:\n                st.warning(\"選択したテーブルに文字列型の列が存在しません\")\n    \n",
   "execution_count": null,
   "outputs": []
  },
  {
   "cell_type": "markdown",
   "id": "18b3bd50-5858-4f5f-9629-18a4d4e3811f",
   "metadata": {
    "name": "internal_marketplace_md1",
    "collapsed": false
   },
   "source": "## Internal Marketplace\n\nSnowflake Internal Marketplaceは、企業が文書化されガバナンスが適用されたデータ製品を公開できるようにし、データ利用者がそれらを発見・理解できるようにします。オプションでデータ品質メトリクスやSLOを含めることで、製品の信頼性を高めることが可能です。また、このマーケットプレイスはデータ製品へのアクセス管理や詳細なガバナンス設定を包括的に提供する豊富な機能を備えており、どの利用者がどのデータ製品またはデータ製品の一部を利用できるかを制御できます。\n\n### Step 1 - 作成されているアカウント確認\nInternal Marketplaceのアカウントを確認"
  },
  {
   "cell_type": "code",
   "id": "6f9164da-ad27-4d83-9163-c2982b9ff37d",
   "metadata": {
    "language": "sql",
    "name": "cell1"
   },
   "outputs": [],
   "source": "SHOW ACCOUNTS;",
   "execution_count": null
  },
  {
   "cell_type": "markdown",
   "id": "af1bb449-80c4-462e-9cc3-d77622c3b4eb",
   "metadata": {
    "name": "create_listing",
    "collapsed": false
   },
   "source": "## 組織リスティングの作成と発行\n\n1. データ共有/Data Sharing > プロバイダーStudio/Provider Studioへアクセスし、`+リストを作成/+ Create listing`をクリック\n2. `内部マーケットプレイス/Internal Marketplace`を選択\n![listing](https://quickstarts.snowflake.com/guide/internal_marketplace_intra_org_sharing/img/4ed4ce2d2816957d.png)\n3. `Untitled Listing`をクリックし、データ製品名を入力(今回はOrder Insight)し、**保存/Save**をクリック\n![title](https://quickstarts.snowflake.com/guide/internal_marketplace_intra_org_sharing/img/293c2606948041ee.png)\n4. **+ プロファイル/+ Profile**ボタンをクリックし、`Sales`を選択する\n![profile](https://quickstarts.snowflake.com/guide/internal_marketplace_intra_org_sharing/img/7fdf4bddeb4b567a.png)\n\n### 共有するデータオブジェクトの選択\n\n5. **データ製品の追加/Add Data Product**をクリックして、オブジェクト Exploreを表示する\n6. TB_101 > SYN_SCHEMA配下のテーブルを選択し、**完了/Done**を選択して**保存/Save**する\n"
  },
  {
   "cell_type": "markdown",
   "id": "5a502036-ab02-4c76-ad22-e390257065a5",
   "metadata": {
    "name": "access_control",
    "collapsed": false
   },
   "source": "### アクセス権と認証プロセスの設定\n7. **+アクセス管理/+Access Control**ボタンをクリックして、アクセスおよび探索の設定を行う\n![access control](https://quickstarts.snowflake.com/guide/internal_marketplace_intra_org_sharing/img/833d6c223c3cd0b5.png)\n\nデフォルトの設定は次の通り\n- *Grant Access*: No accounts or role are pre-approved\n- *Allow Discovery*: Entire Organization\n\n上記の結果、すべてのデータ利用者はデータ製品を使用する承認を得るためにアクセスをリクエストする必要があります。**リクエスト承認フローの設定/Set up request Approval flow**をクリックして続行してください。\n\nリクエスト承認プロセス用に外部ワークフローエンジンを設定することも可能です。本ハンズオンでは、外部ページを表示するようにします。(Manage Request outside of Snowflakeを選択)\n![approval_flow1](https://quickstarts.snowflake.com/guide/internal_marketplace_intra_org_sharing/img/946ccee29912813.png)\n\n承認フローの設定を確認した後、Snowflakeはさらに追加の設定が必要となります。\nその理由は次のとおりです：\n- このリストは組織全体から検出可能に設定されています。\n- 組織に別のアカウントを追加したが、異なるクラウドリージョンにある場合はどうでしょうか？\n- その場合、Snowflakeは転送コストを最小化するため、そのリージョンへの増分レプリケーションを透過的に実行します。\n- データプロバイダーとして、このレプリケーションの頻度を選択できます。\n\nでは、(1) 設定を確認し、(2) レプリケーション間隔を毎日（1日）に変更し、(3) このリストの設定を保存しましょう：\n![auto fulfilment](https://quickstarts.snowflake.com/guide/internal_marketplace_intra_org_sharing/img/855859896cf2112e.png)"
  },
  {
   "cell_type": "markdown",
   "id": "2e5990eb-5582-4d4d-a63e-9144edcab070",
   "metadata": {
    "name": "optional_settings_md",
    "collapsed": false
   },
   "source": "### オプションのメタデータとSLOを追加する\n\nデータ製品はデータ利用者にとって理解しやすく信頼できるものであるべきです。製品を説明する追加のメタデータを追加しましょう（下図参照）。\n\n- ビジネス**説明/Description**を追加してリスト内容を文書化します。\n  - 例：「本データ製品は顧客注文の取引記録を含み、個々の注文詳細と購入された特定商品を関連付けます。注文ID、顧客識別子、注文日、商品名、数量、価格などの情報が含まれます。このデータを活用することで、顧客購買パターンの分析、人気商品の特定、注文頻度の把握、販売動向の洞察を得ることが可能です。」\n- 追加情報のURLを提供してドキュメントを追加してください。（現時点では任意のURLを入力可、例：http://www.snowflake.com/data-mesh）\n- 利用規約のURLを記載して利用規約を追加してください。\n- データプロダクト所有者からデータ利用者への**サービスレベル目標(SLA)**を示す**属性を追加**してください。指定可能な項目：\n  - **更新頻度**：データプロダクトの更新頻度（例：共有テーブルへの新規/更新レコード追加間隔）\n  - **地理的カバレッジ**：複数地域でSnowflakeを利用している場合、このデータ製品を共有する地域。\n  - **時間範囲**：含まれる履歴データの期間。\n  - **タイムスタンプの粒度**：データポイント間の間隔。例：受注ごとに1レコードの場合は「イベントベース」、日付単位で集計する場合は「日次」など。\n\n![Additional Info](https://quickstarts.snowflake.com/guide/internal_marketplace_intra_org_sharing/img/cd28ccb2f30c0f29.png)\n\n- **Quick Start Example**を追加します。(今回は、TB_101.publicにある`Qucik Start Example`というノートブックを選択します)\n- **Data Dictionary**を作成します。Snowflakeはデータプロダクト内の全オブジェクトについて、カラム情報とサンプルデータを自動的にコンパイルします。少なくとも1つ（最大5つまで）のデータオブジェクトを選択し、**+Add to Featured**をクリックしてください。これらはディクショナリで消費者が最初に目にするオブジェクトとなります。提案：Customer Loyalty、Order Header、Order Detailをフィーチャー対象として選択してください。\n\n![Data Dictionary](https://quickstarts.snowflake.com/guide/internal_marketplace_intra_org_sharing/img/c3b72a1524599138.png)"
  },
  {
   "cell_type": "markdown",
   "id": "b2e90630-1d0c-4e84-9208-6c28e20a0176",
   "metadata": {
    "name": "publish_listing",
    "collapsed": false
   },
   "source": "### 内部マーケットプレイスへのリスト公開\n\n右上の青い**公開/Publish**ボタンをクリックしてください。\n\nこれで、データ製品が公開されています。内部マーケットプレイスへ移動すると確認ができます。\n\n![Internal Marketplace](https://quickstarts.snowflake.com/guide/internal_marketplace_intra_org_sharing/img/11bbfb5810f764e2.png)"
  },
  {
   "cell_type": "markdown",
   "id": "b7cd27a4-6518-462f-b86a-a6515d5d6d11",
   "metadata": {
    "name": "consumer_internal_marketplace",
    "collapsed": false
   },
   "source": "### 消費アカウントからの確認\n\n皆様でお互いに共有が行われているはずですので、共有されているデータ製品を確認してみましょう。\n\n1. カタログ/Catalog > 内部マーケットプレイス/Internal Markeplace へアクセスし表示されていることを確認\n2. クリックして、どのように表示されるかを確認してください。"
  }
 ]
}