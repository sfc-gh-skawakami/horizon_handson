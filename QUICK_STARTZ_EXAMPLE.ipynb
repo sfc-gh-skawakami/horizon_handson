{
 "metadata": {
  "kernelspec": {
   "display_name": "Streamlit Notebook",
   "name": "streamlit"
  },
  "lastEditStatus": {
   "notebookId": "flykm7wjb54p5qiqwcbg",
   "authorId": "4547617619514",
   "authorName": "SKAWAKAMI",
   "authorEmail": "shinichi.kawakami@snowflake.com",
   "sessionId": "b703e0d6-bddf-464f-b462-7cc2a718653f",
   "lastEditTime": 1759748537705
  }
 },
 "nbformat_minor": 5,
 "nbformat": 4,
 "cells": [
  {
   "cell_type": "markdown",
   "id": "3634622d-76a2-4683-9a31-668aadb269b1",
   "metadata": {
    "name": "cell4",
    "collapsed": false
   },
   "source": "## Who is Tasty Bytes\n![overview](https://quickstarts.snowflake.com/guide/zero_to_snowflake/img/a51f501137dea3c5.png)"
  },
  {
   "cell_type": "code",
   "id": "3775908f-ca36-4846-8f38-5adca39217f2",
   "metadata": {
    "language": "python",
    "name": "cell1"
   },
   "source": "import streamlit as st\nimport altair as alt\nfrom snowflake.snowpark.context import get_active_session\nimport pandas as pd\n\nsession = get_active_session()\n\n# データの取得\ndf = session.table(\"TB_101.SYN_SCHEMA.ORDER_HEADER\").to_pandas()\n\n# 数値型と日時型のカラムを抽出\nnumeric_cols = df.select_dtypes(include=['int64', 'float64']).columns\ndatetime_cols = df.select_dtypes(include=['datetime64']).columns\n\n# 基本的な統計情報\nst.header(\"ORDER_HEADERテーブルの基本統計\")\ncol1, col2, col3, col4 = st.columns(4)\nwith col1:\n    st.metric(\"総注文数\", f\"{len(df):,}\")\nwith col2:\n    st.metric(\"総売上\", f\"${df['ORDER_TOTAL'].sum():,.2f}\")\nwith col3:\n    st.metric(\"平均注文金額\", f\"${df['ORDER_TOTAL'].mean():,.2f}\")\nwith col4:\n    st.metric(\"ユニーク顧客数\", f\"{df['CUSTOMER_ID'].nunique():,}\")\n\n# 時系列分析\nst.subheader(\"注文の時系列推移\")\ndaily_orders = df.groupby(df['ORDER_TS'].dt.date).agg({\n    'ORDER_ID': 'count',\n    'ORDER_TOTAL': 'sum'\n}).reset_index()\n\nchart_type = st.selectbox(\n    \"表示する指標を選択\",\n    [\"注文数\", \"売上高\"]\n)\n\nif chart_type == \"注文数\":\n    y_col = 'ORDER_ID'\n    title = \"日次注文数\"\nelse:\n    y_col = 'ORDER_TOTAL'\n    title = \"日次売上高\"\n\nline_chart = alt.Chart(daily_orders).mark_line().encode(\n    x='ORDER_TS:T',\n    y=alt.Y(y_col, title=title),\n    tooltip=['ORDER_TS', y_col]\n).properties(\n    width=700,\n    height=400,\n    title=title\n)\nst.altair_chart(line_chart)",
   "execution_count": null,
   "outputs": []
  }
 ]
}